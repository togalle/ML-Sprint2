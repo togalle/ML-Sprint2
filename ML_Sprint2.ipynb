{
  "nbformat": 4,
  "nbformat_minor": 0,
  "metadata": {
    "colab": {
      "provenance": [],
      "authorship_tag": "ABX9TyOvgcb6Dn4HvR+21h6NzaZ8",
      "include_colab_link": true
    },
    "kernelspec": {
      "name": "python3",
      "display_name": "Python 3"
    },
    "language_info": {
      "name": "python"
    }
  },
  "cells": [
    {
      "cell_type": "markdown",
      "metadata": {
        "id": "view-in-github",
        "colab_type": "text"
      },
      "source": [
        "<a href=\"https://colab.research.google.com/github/togalle/ML-Sprint2/blob/main/ML_Sprint2.ipynb\" target=\"_parent\"><img src=\"https://colab.research.google.com/assets/colab-badge.svg\" alt=\"Open In Colab\"/></a>"
      ]
    },
    {
      "cell_type": "code",
      "execution_count": 1,
      "metadata": {
        "id": "qlP4irKBc07n",
        "colab": {
          "base_uri": "https://localhost:8080/"
        },
        "outputId": "c5f55e51-08b7-4a9e-803e-390e1abc5d36"
      },
      "outputs": [
        {
          "output_type": "stream",
          "name": "stdout",
          "text": [
            "Cloning into 'MachineLearningDepthSensing'...\n",
            "fatal: could not read Username for 'https://github.ugent.be': No such device or address\n"
          ]
        }
      ],
      "source": [
        "!pip install -q xlrd\n",
        "!git clone https://github.ugent.be/nsavvide/MachineLearningDepthSensing.git"
      ]
    },
    {
      "cell_type": "code",
      "source": [],
      "metadata": {
        "id": "lx34B4g0n0mT"
      },
      "execution_count": null,
      "outputs": []
    },
    {
      "cell_type": "code",
      "source": [
        "from google.colab import drive\n",
        "drive.mount('/content/drive')"
      ],
      "metadata": {
        "id": "abWaCZdrooQ3"
      },
      "execution_count": null,
      "outputs": []
    }
  ]
}